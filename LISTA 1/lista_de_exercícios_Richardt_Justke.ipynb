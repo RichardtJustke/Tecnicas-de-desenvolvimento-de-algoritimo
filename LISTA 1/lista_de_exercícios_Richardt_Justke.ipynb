{
  "nbformat": 4,
  "nbformat_minor": 0,
  "metadata": {
    "colab": {
      "provenance": []
    },
    "kernelspec": {
      "name": "python3",
      "display_name": "Python 3"
    },
    "language_info": {
      "name": "python"
    }
  },
  "cells": [
    {
      "cell_type": "markdown",
      "source": [
        "Richardt Justke\n",
        "\n",
        "Turma ciências da computação\n",
        "\n",
        "![imagem_2025-09-19_192104101.png](data:image/png;base64,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)"
      ],
      "metadata": {
        "id": "8d_nPQGYEEBf"
      }
    },
    {
      "cell_type": "code",
      "execution_count": null,
      "metadata": {
        "id": "6TPF1xYpyDYi"
      },
      "outputs": [],
      "source": [
        "# 1. Escreva um programa que apresente na tela a frase: \"Meu primeiro programa!!!\"\n",
        "print(\"Meu primeiro programa!!!\")"
      ]
    },
    {
      "cell_type": "code",
      "source": [
        "# 2. Escreva um programa que solicite ao usuário um número inteiro e ao final apresente na tela o número informado.\n",
        "num = int(input(\"\\n[2] Digite um número inteiro: \"))\n",
        "print(num)"
      ],
      "metadata": {
        "id": "FSQ0MhTCFexZ"
      },
      "execution_count": null,
      "outputs": []
    },
    {
      "cell_type": "code",
      "source": [
        "# 3. Escreva um programa que solicite ao usuário um número inteiro e ao final apresente na tela: \"Foi informado o valor: X\"\n",
        "num = int(input(\"\\n[3] Digite um número inteiro: \"))\n",
        "print(f\"Foi informado o valor: {num}\")\n"
      ],
      "metadata": {
        "id": "gOkSsgH6Fc40"
      },
      "execution_count": null,
      "outputs": []
    },
    {
      "cell_type": "code",
      "source": [
        "# 4. Escreva um programa que solicite ao usuário dois números inteiros e ao final apresente: \"Você informou os números X e Y\"\n",
        "a = int(input(\"\\n[4] Digite o primeiro número inteiro: \"))\n",
        "b = int(input(\"Digite o segundo número inteiro: \"))\n",
        "print(f\"Você informou os números {a} e {b}\")"
      ],
      "metadata": {
        "id": "WM_x_TmjFbea"
      },
      "execution_count": null,
      "outputs": []
    },
    {
      "cell_type": "code",
      "source": [
        "# 5. Escreva um programa que solicite ao usuário um número real e apresente formatado com duas casas decimais.\n",
        "num = float(input(\"\\n[5] Digite um número real: \"))\n",
        "print(f\"Você informou o número {num:.2f}\")\n"
      ],
      "metadata": {
        "id": "KCmoHLHLFaAg"
      },
      "execution_count": null,
      "outputs": []
    },
    {
      "cell_type": "code",
      "source": [
        "# 6. Escreva um programa que solicite a temperatura em Celsius e apresente em Fahrenheit. F = C * 1.8 + 32\n",
        "celsius = float(input(\"\\n[6] Digite a temperatura em Celsius: \"))\n",
        "fahrenheit = celsius * 1.8 + 32\n",
        "print(f\"A temperatura em Fahrenheit é: {fahrenheit:.2f}\")"
      ],
      "metadata": {
        "id": "8B3NzOSoFR-f"
      },
      "execution_count": null,
      "outputs": []
    },
    {
      "cell_type": "code",
      "source": [
        "# 7. Escreva um programa que solicite um número inteiro e um real, mostrando o real com 2 casas.\n",
        "n = int(input(\"\\n[7] Digite um número inteiro: \"))\n",
        "x = float(input(\"Digite um número real: \"))\n",
        "print(f\"Você informou os números {n} e {x:.2f}\")"
      ],
      "metadata": {
        "id": "ykvpl2YGFM3W"
      },
      "execution_count": null,
      "outputs": []
    },
    {
      "cell_type": "code",
      "source": [
        "# 8. Escreva um programa que solicite a primeira letra do nome e mostre: \"Você digitou X\"\n",
        "letra = input(\"\\n[8] Digite a primeira letra do seu nome: \")\n",
        "print(f\"Você digitou {letra}\")"
      ],
      "metadata": {
        "id": "ND3iTRrAFMSt"
      },
      "execution_count": null,
      "outputs": []
    },
    {
      "cell_type": "code",
      "source": [
        "# 9. Escreva um programa que solicite a cor preferida e mostre: \"Você gosta da cor X\"\n",
        "cor = input(\"\\n[9] Digite sua cor preferida: \")\n",
        "print(f\"Você gosta da cor {cor}\")"
      ],
      "metadata": {
        "id": "S3z9cK2KFJia"
      },
      "execution_count": null,
      "outputs": []
    },
    {
      "cell_type": "code",
      "source": [
        "# 10. Escreva um programa que solicite uma verdura e uma fruta e mostre: \"Você gosta de X e Y\"\n",
        "verdura = input(\"\\n[10] Digite o nome de uma verdura: \")\n",
        "fruta = input(\"Digite o nome de uma fruta: \")\n",
        "print(f\"Você gosta de {verdura} e {fruta}\")"
      ],
      "metadata": {
        "id": "9BDu3GU-FHCx"
      },
      "execution_count": null,
      "outputs": []
    },
    {
      "cell_type": "code",
      "source": [
        "# 11. Escreva um programa que solicite um número real e mostre ele e seu dobro.\n",
        "num = float(input(\"\\n[11] Digite um número real: \"))\n",
        "print(f\"Número -> {num}\")\n",
        "print(f\"Dobro deste número -> {num * 2}\")\n"
      ],
      "metadata": {
        "id": "_moBtsK8FBmE"
      },
      "execution_count": null,
      "outputs": []
    },
    {
      "cell_type": "code",
      "source": [
        "# 12. Reescreva o anterior mostrando também o quadrado e o cubo.\n",
        "num = float(input(\"\\n[12] Digite um número real: \"))\n",
        "print(f\"Número -> {num}\")\n",
        "print(f\"Quadrado deste número -> {num ** 2}\")\n",
        "print(f\"Cubo deste número -> {num ** 3}\")"
      ],
      "metadata": {
        "id": "yNtN36H_E-6H"
      },
      "execution_count": null,
      "outputs": []
    },
    {
      "cell_type": "code",
      "source": [
        "# 13. Escreva um programa que solicite dois inteiros e mostre sua soma.\n",
        "a = int(input(\"\\n[13] Digite o primeiro número: \"))\n",
        "b = int(input(\"Digite o segundo número: \"))\n",
        "print(f\"Os números {a} e {b} somados correspondem a {a + b}\")"
      ],
      "metadata": {
        "id": "KYYreK62Eej-"
      },
      "execution_count": null,
      "outputs": []
    },
    {
      "cell_type": "code",
      "source": [
        "# 14. Escreva um programa que solicite dois números reais e mostre seu produto.\n",
        "a = float(input(\"\\n[14] Digite o primeiro número real: \"))\n",
        "b = float(input(\"Digite o segundo número real: \"))\n",
        "print(f\"O produto dos números {a} e {b} corresponde a {a * b}\")"
      ],
      "metadata": {
        "id": "zygBnnyxEzTg"
      },
      "execution_count": null,
      "outputs": []
    },
    {
      "cell_type": "code",
      "source": [
        "# 15. Refazer o programa 14 realizando as quatro operações aritméticas básicas.\n",
        "a = float(input(\"\\n[15] Digite o primeiro número real: \"))\n",
        "b = float(input(\"Digite o segundo número real: \"))\n",
        "print(f\"Soma: {a + b}\")\n",
        "print(f\"Subtração: {a - b}\")\n",
        "print(f\"Multiplicação: {a * b}\")\n",
        "print(f\"Divisão: {a / b}\")"
      ],
      "metadata": {
        "id": "36SB-cf3D3Yy"
      },
      "execution_count": null,
      "outputs": []
    },
    {
      "cell_type": "code",
      "source": [
        "# 16. Escreva um programa que solicite o salário fixo, o total vendido no mês e o percentual de comissão.\n",
        "# Ao final, apresente o salário bruto.\n",
        "salario_fixo = float(input(\"\\n[16] Digite o salário fixo do vendedor: \"))\n",
        "total_vendas = float(input(\"Digite o total vendido no mês: \"))\n",
        "percentual = float(input(\"Digite o percentual de comissão (%): \"))\n",
        "salario_bruto = salario_fixo + (total_vendas * percentual / 100)\n",
        "print(f\"O salário bruto é: R$ {salario_bruto:.2f}\")"
      ],
      "metadata": {
        "colab": {
          "base_uri": "https://localhost:8080/"
        },
        "id": "7u0qqdI6DzdH",
        "outputId": "3097d761-5ff1-470f-e407-d6ca7c9bb9df"
      },
      "execution_count": null,
      "outputs": [
        {
          "output_type": "stream",
          "name": "stdout",
          "text": [
            "\n",
            "[16] Digite o salário fixo do vendedor: 2500\n",
            "Digite o total vendido no mês: 3000\n",
            "Digite o percentual de comissão (%): 10\n",
            "O salário bruto é: R$ 2800.00\n"
          ]
        }
      ]
    }
  ]
}