{
  "nbformat": 4,
  "nbformat_minor": 0,
  "metadata": {
    "colab": {
      "provenance": []
    },
    "kernelspec": {
      "name": "python3",
      "display_name": "Python 3"
    },
    "language_info": {
      "name": "python"
    }
  },
  "cells": [
    {
      "cell_type": "markdown",
      "source": [
        "Richardt Justke\n",
        "\n",
        "Turma ciências da computação\n",
        "\n",
        "![imagem_2025-09-19_192104101.png](data:image/png;base64,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)"
      ],
      "metadata": {
        "id": "8d_nPQGYEEBf"
      }
    },
    {
      "cell_type": "code",
      "source": [
        "#1. Elabore um algoritmo que imprima na tela lado a lado o texto \"Hello World!\" 10 vezes\n",
        "\n",
        "for i in range(10):\n",
        "    print(\"Hello World!\", end=' ')"
      ],
      "metadata": {
        "id": "Qz_Of8pXenUE"
      },
      "execution_count": null,
      "outputs": []
    },
    {
      "cell_type": "code",
      "source": [
        "#2. Elabore um algoritmo que imprima na tela o texto \"Hello World!\" 10 vezes, um por linha\n",
        "\n",
        "for i in range(10):\n",
        "    print(\"Hello World!\")"
      ],
      "metadata": {
        "id": "R8yGI0UMevwN"
      },
      "execution_count": null,
      "outputs": []
    },
    {
      "cell_type": "code",
      "source": [
        "#3. Elabore um algoritmo que imprima todos os números inteiros de 1 até 100 inclusive.\n",
        "\n",
        "for numero in range(1, 101):\n",
        "    print(numero)"
      ],
      "metadata": {
        "id": "TiEyYVjse1Rr"
      },
      "execution_count": null,
      "outputs": []
    },
    {
      "cell_type": "code",
      "source": [
        "#5. Elabore um algoritmo que imprima todos os números decrescentes de 100 até 0 inclusive\n",
        "\n",
        "for i in range(100, -1, -1):\n",
        "    print(i)"
      ],
      "metadata": {
        "id": "1jKdeApRe18t"
      },
      "execution_count": null,
      "outputs": []
    },
    {
      "cell_type": "code",
      "source": [
        "#6. Elabore um algoritmo que imprima todos os números pares inteiros de 1 até 1000\n",
        "\n",
        "for i in range(2, 1001, 2):\n",
        "    print(i)"
      ],
      "metadata": {
        "id": "QZVY8_tLe7F9"
      },
      "execution_count": null,
      "outputs": []
    },
    {
      "cell_type": "code",
      "source": [
        "#7. Elabore um algoritmo que imprima todos os números ímpares de 1000 até 0\n",
        "\n",
        "for i in range(1000, -1, -1):\n",
        "    if i % 2 != 0:\n",
        "        print(i)"
      ],
      "metadata": {
        "id": "oyClh6C3e9Gt"
      },
      "execution_count": null,
      "outputs": []
    },
    {
      "cell_type": "code",
      "source": [
        "#8. Elabore um algoritmo que imprima a soma dos 100 primeiros números inteiros positivos.\n",
        "\n",
        "soma = 0\n",
        "\n",
        "for i in range(1, 101):\n",
        "    soma += i\n",
        "\n",
        "print(\"A soma dos 100 primeiros números inteiros positivos é:\", soma)"
      ],
      "metadata": {
        "id": "2uChKMK2fBLK"
      },
      "execution_count": null,
      "outputs": []
    },
    {
      "cell_type": "code",
      "source": [
        "#9. Elabore um algoritmo que solicite ao usuário um número inteiro que indicará a quantidade de vezes que o texto \"Hello World!\" será impresso na tela, um em cada linha\n",
        "\n",
        "quantidade = int(input(\"Digite a quantidade de vezes que deseja imprimir 'Hello World!': \"))\n",
        "\n",
        "for i in range(quantidade):\n",
        "    print(\"Hello World!\")"
      ],
      "metadata": {
        "id": "YtXGW2qNfEFe"
      },
      "execution_count": null,
      "outputs": []
    },
    {
      "cell_type": "code",
      "source": [
        "#10. Elabore um algoritmo que solicite ao usuário uma palavra e um número inteiro que indicará a quantidade de vezes que a palavra digitada será impressa na tela, um em cada linha\n",
        "\n",
        "palavra = input(\"Digite uma palavra: \")\n",
        "quantidade = int(input(\"Digite a quantidade de vezes que deseja imprimir a palavra: \"))\n",
        "\n",
        "for i in range(quantidade):\n",
        "    print(palavra)"
      ],
      "metadata": {
        "id": "6rNet9FgfFGs"
      },
      "execution_count": null,
      "outputs": []
    },
    {
      "cell_type": "code",
      "source": [
        "#11. Elabore um algoritmo que leia um número de entrada que indicará a quantidade de números a serem lidos. Em seguida, leia n números (conforme o valor informado anteriormente) e imprima a soma e a média aritmética dos números informados\n",
        "\n",
        "n = int(input(\"Digite a quantidade de números que deseja informar: \"))\n",
        "\n",
        "soma = 0\n",
        "\n",
        "for i in range(n):\n",
        "    num = float(input(f\"Digite o número {i + 1}: \"))\n",
        "    soma += num\n",
        "\n",
        "media = soma / n if n > 0 else 0\n",
        "\n",
        "print(f\"Soma dos números: {soma}\")\n",
        "print(f\"Média aritmética: {media}\")"
      ],
      "metadata": {
        "id": "9yaa72UtfGsL"
      },
      "execution_count": null,
      "outputs": []
    },
    {
      "cell_type": "code",
      "source": [
        "#12. Elabore um algoritmo que leia um número de entrada que indicará a quantidade de registros a serem lidos (N). Em seguida algoritmo deve solicitar o nome e idade de N pessoas e ao final apresentar o nome da pessoa mais velha\n",
        "\n",
        "N = int(input(\"Digite a quantidade de pessoas a registrar: \"))\n",
        "\n",
        "nome_mais_velho = \"\"\n",
        "idade_mais_velha = -1  # Começa com idade menor que qualquer idade válida\n",
        "\n",
        "for i in range(N):\n",
        "    nome = input(f\"Digite o nome da pessoa {i + 1}: \")\n",
        "    idade = int(input(f\"Digite a idade de {nome}: \"))\n",
        "\n",
        "    if idade > idade_mais_velha:\n",
        "        idade_mais_velha = idade\n",
        "        nome_mais_velho = nome\n",
        "\n",
        "print(f\"A pessoa mais velha é {nome_mais_velho} com {idade_mais_velha} anos.\")"
      ],
      "metadata": {
        "id": "qtna0zUVfJJ_"
      },
      "execution_count": null,
      "outputs": []
    },
    {
      "cell_type": "code",
      "source": [
        "#13. Elabore um algoritmo que leia um número de entrada que indicará a quantidade deregistros a serem lidos (N). Em seguida algoritmo deve solicitar o sexo (M/F) e idade de N pessoas e ao final apresentar a média de idade de ambos os gêneros catalogados\n",
        "\n",
        "N = int(input(\"Digite a quantidade de pessoas a registrar: \"))\n",
        "\n",
        "soma_idade_m = 0\n",
        "cont_m = 0\n",
        "soma_idade_f = 0\n",
        "cont_f = 0\n",
        "\n",
        "for i in range(N):\n",
        "    sexo = input(f\"Digite o sexo da pessoa {i + 1} (M/F): \").strip().upper()\n",
        "    idade = int(input(f\"Digite a idade da pessoa {i + 1}: \"))\n",
        "\n",
        "    if sexo == 'M':\n",
        "        soma_idade_m += idade\n",
        "        cont_m += 1\n",
        "    elif sexo == 'F':\n",
        "        soma_idade_f += idade\n",
        "        cont_f += 1\n",
        "    else:\n",
        "        print(\"Sexo inválido! Registros de sexo diferentes de M ou F serão ignorados.\")\n",
        "\n",
        "media_m = soma_idade_m / cont_m if cont_m > 0 else 0\n",
        "media_f = soma_idade_f / cont_f if cont_f > 0 else 0\n",
        "\n",
        "print(f\"Média de idade dos homens: {media_m:.2f}\")\n",
        "print(f\"Média de idade das mulheres: {media_f:.2f}\")"
      ],
      "metadata": {
        "id": "t1wiLE_nfMi6"
      },
      "execution_count": null,
      "outputs": []
    },
    {
      "cell_type": "code",
      "source": [
        "#14. Elabore um algoritmo que solicite ao usuário 10 números reais e ao final apresente o maior e o menor deles\n",
        "\n",
        "maior = None\n",
        "menor = None\n",
        "\n",
        "for i in range(1, 11):\n",
        "    num = float(input(f\"Digite o número real {i}: \"))\n",
        "\n",
        "    if maior is None or num > maior:\n",
        "        maior = num\n",
        "\n",
        "    if menor is None or num < menor:\n",
        "        menor = num\n",
        "\n",
        "print(f\"O maior número digitado foi: {maior}\")\n",
        "print(f\"O menor número digitado foi: {menor}\")"
      ],
      "metadata": {
        "id": "ejpkmTx4fNfm"
      },
      "execution_count": null,
      "outputs": []
    },
    {
      "cell_type": "code",
      "source": [
        "#15. Elabore um algoritmo que solicite N números reais e quando o usuário informar o valor nulo 0 (zero) o programa ordene e mostre todos os números informados de forma crescente\n",
        "\n",
        "numeros = []\n",
        "\n",
        "print(\"Digite números reais. Para encerrar, digite 0.\")\n",
        "\n",
        "while True:\n",
        "    num = float(input(\"Digite um número: \"))\n",
        "\n",
        "    if num == 0:\n",
        "        break\n",
        "\n",
        "    numeros.append(num)\n",
        "\n",
        "numeros.sort()\n",
        "\n",
        "print(\"\\nNúmeros em ordem crescente:\")\n",
        "for n in numeros:\n",
        "    print(n)"
      ],
      "metadata": {
        "id": "dvjKiG7_fQOq"
      },
      "execution_count": null,
      "outputs": []
    },
    {
      "cell_type": "code",
      "source": [
        "###16. Escreva um programa que vá solicitando as idades dos alunos da sala até que todos sejam informados (perguntar ao usuário se deseja informar a idade do próximo aluno). Ao final apresentar a idade do mais novo, a idade do mais velho, Quantos alunos têm mais de 18 anos, quantos alunos têm até 18 anos, a média aritmética e a mediana. maior18=menor18=maisVelho=maisNovo=media=0\n",
        "mediana=[]\n",
        "\n",
        "while True:\n",
        "  idade=int(input(\"Informe a idade do aluno: \"))\n",
        "  maior18+=1 if idade>=18 else 0\n",
        "  menor18+=1 if idade<18 and idade>0 else 0\n",
        "  if idade>0:\n",
        "    media+=idade\n",
        "    mediana.append(idade)\n",
        "  else:\n",
        "    print(\"Idade Inválida, utilize números inteiros positivos\")\n",
        "\n",
        "  resN=[\"NAO\",\"NÃO\",\"N\"]\n",
        "  teste=input(\"Deseja informa a idade de outro aluno? [S/N]\")\n",
        "  if teste.upper() in resN:\n",
        "    break\n",
        "\n",
        "maisVelho= max(mediana)\n",
        "maisNovo= min(mediana)\n",
        "mediaIdade=media/len(mediana)\n",
        "mediana.sort()\n",
        "n=len(mediana)\n",
        "\n",
        "if n%2==1:\n",
        "  valorMediana=mediana[n//2]\n",
        "elif n%2==0:\n",
        "  valorMediana=(mediana[n//2-1]+mediana[n//2])/2\n",
        "\n",
        "print(f\"O aluno mais novo tem {maisNovo} anos\")\n",
        "print(f\"O aluno mais velho tem {maisVelho} anos\")\n",
        "print(f\"Há {maior18} alunos com mais de 18 anos\")\n",
        "print(f\"Há {menor18} alunos com menos de 18 anos\")\n",
        "print(f\"A média de idade dos alunos é: {mediaIdade}\")\n",
        "print((f\"A mediana de idade dos alunos é: {valorMediana}\"))"
      ],
      "metadata": {
        "id": "XsSZIj1wfSTl"
      },
      "execution_count": null,
      "outputs": []
    }
  ]
}